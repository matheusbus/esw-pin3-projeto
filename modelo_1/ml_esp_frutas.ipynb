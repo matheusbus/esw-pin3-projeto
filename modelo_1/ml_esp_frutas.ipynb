{
 "cells": [
  {
   "cell_type": "code",
   "execution_count": 4,
   "id": "8fbdc6dd-9bd7-4b67-9e31-81a5147a109d",
   "metadata": {},
   "outputs": [],
   "source": [
    "import os\n",
    "import matplotlib.pyplot as plt\n",
    "import tensorflow as tf"
   ]
  },
  {
   "cell_type": "code",
   "execution_count": 5,
   "id": "260cbcc7-285c-4d54-b24d-327f00d2e1a2",
   "metadata": {},
   "outputs": [
    {
     "name": "stdout",
     "output_type": "stream",
     "text": [
      "Contagem de imagens de morango: 306\n",
      "Contagem de imagens de pêssego: 304\n",
      "Contagem de imagens de romã: 311\n"
     ]
    }
   ],
   "source": [
    "## 1. Dataset das imagens\n",
    "dataset_dir = os.path.join(os.getcwd(), 'imagens')\n",
    "dataset_morango_dir = os.path.join(dataset_dir, 'morango')\n",
    "dataset_pessego_dir = os.path.join(dataset_dir, 'pessego')\n",
    "dataset_roma_dir = os.path.join(dataset_dir, 'roma')\n",
    "\n",
    "dataset_morango_len = len(os.listdir(dataset_morango_dir))\n",
    "dataset_pessego_len = len(os.listdir(dataset_pessego_dir))\n",
    "dataset_roma_len = len(os.listdir(dataset_roma_dir))\n",
    "\n",
    "print(f'Contagem de imagens de morango: {dataset_morango_len}')\n",
    "print(f'Contagem de imagens de pêssego: {dataset_pessego_len}')\n",
    "print(f'Contagem de imagens de romã: {dataset_roma_len}')"
   ]
  },
  {
   "cell_type": "code",
   "execution_count": 6,
   "id": "202294f1",
   "metadata": {},
   "outputs": [],
   "source": [
    "# 2. Aplicando o rebalanceamento do dataset\n",
    "# -> Utilizada a técnica de 'data augmentation' para gerar novas imagens de morango e pessego\n",
    "from tensorflow.keras.preprocessing.image import ImageDataGenerator\n",
    "import numpy as np\n",
    "\n",
    "# Criar um objeto ImageDataGenerator para data augmentation\n",
    "datagen = ImageDataGenerator(\n",
    "    rotation_range=20,          # Faixa de rotação aleatória em graus\n",
    "    width_shift_range=0.2,      # Faixa de deslocamento horizontal aleatório (como uma fração da largura total)\n",
    "    height_shift_range=0.2,     # Faixa de deslocamento vertical aleatório (como uma fração da altura total)\n",
    "    shear_range=0.2,            # Faixa de cisalhamento aleatório (em radianos)\n",
    "    zoom_range=0.2,             # Faixa de zoom aleatório\n",
    "    horizontal_flip=True,      # Inverter aleatoriamente as imagens horizontalmente (espelhamento)\n",
    "    fill_mode='nearest'        # Estratégia de preenchimento usada para preencher novos pixels gerados após a rotação ou deslocamento\n",
    ")\n",
    "\n",
    "if (dataset_morango_len == 250) or (dataset_pessego_len == 250): \n",
    "    numero_imagens_aumentadas = 61\n",
    "    classes_aumentadas = ['morango', 'pessego']\n",
    "\n",
    "    for classe in classes_aumentadas:\n",
    "        # Diretório da classe atual\n",
    "        diretorio_classe = os.path.join(dataset_dir, classe)\n",
    "        \n",
    "        # Criar diretório para a classe aumentada, se não existir\n",
    "        diretorio_destino_classe = os.path.join(dataset_dir, classe)\n",
    "        os.makedirs(diretorio_destino_classe, exist_ok=True)\n",
    "        \n",
    "        # Lista de arquivos de imagem na classe atual\n",
    "        imagens_classe = os.listdir(diretorio_classe)\n",
    "        \n",
    "        # Selecionar aleatoriamente algumas imagens existentes para data augmentation\n",
    "        indices_amostra = np.random.choice(len(imagens_classe), numero_imagens_aumentadas, replace=True)\n",
    "        \n",
    "        # Para cada imagem de amostra selecionada\n",
    "        for indice in indices_amostra:\n",
    "            imagem_nome = imagens_classe[indice]\n",
    "            imagem_path = os.path.join(diretorio_classe, imagem_nome)\n",
    "            \n",
    "            # Carregar imagem\n",
    "            imagem = Image.open(imagem_path)\n",
    "            imagem_array = np.array(imagem)\n",
    "            imagem_array = imagem_array.reshape((1,) + imagem_array.shape)  # Reshape para (1, altura, largura, canais)\n",
    "            \n",
    "            # Gerar imagens aumentadas e salvar no diretório de destino\n",
    "            for i, batch in enumerate(datagen.flow(imagem_array, batch_size=1)):\n",
    "                if i >= 1:  # Quantidade de imagens aumentadas a serem geradas por imagem de amostra\n",
    "                    break\n",
    "                imagem_aumentada = batch[0].astype(np.uint8)  # Converter de volta para o formato de imagem\n",
    "                nova_imagem_nome = f\"{os.path.splitext(imagem_nome)[0]}_aug_{i}.jpg\"\n",
    "                nova_imagem_path = os.path.join(diretorio_destino_classe, nova_imagem_nome)\n",
    "                nova_imagem = Image.fromarray(imagem_aumentada)\n",
    "                nova_imagem.save(nova_imagem_path)"
   ]
  },
  {
   "cell_type": "code",
   "execution_count": 7,
   "id": "7f11c96a-7b60-4ece-b705-d472939d7169",
   "metadata": {},
   "outputs": [],
   "source": [
    "# 3. Definição e separação dos dados de treinamento e dados de teste\n",
    "from sklearn.model_selection import train_test_split\n",
    "import shutil\n",
    "import random\n",
    "\n",
    "# Diretório do projeto\n",
    "projeto_dir = os.getcwd()\n",
    "\n",
    "# Caminhos para as pastas de treinamento, validação e teste\n",
    "dataset_treinamento_dir = os.path.join(projeto_dir, 'imagens_treinamento')\n",
    "dataset_validacao_dir = os.path.join(projeto_dir, 'imagens_validacao')\n",
    "dataset_teste_dir = os.path.join(projeto_dir, 'imagens_teste')\n",
    "\n",
    "# Proporções para dividir os dados entre treinamento, validação e teste\n",
    "proporcao_treinamento = 0.6  # 60% para treinamento\n",
    "proporcao_validacao = 0.2  # 20% para validação\n",
    "proporcao_teste = 0.2  # 20% para teste\n",
    "\n",
    "# Conforme conversado com professor, utilizar a função random para gerar o random_seed\n",
    "#random_seed = random.randint(1, 99)\n",
    "\n",
    "# No entanto, estou utilizando um valor setado em 42 para ter sempre os mesmos conjuntos de dados durante os testes do código\n",
    "random_seed = 42\n",
    "\n",
    "classes = ['morango', 'pessego', 'roma']\n",
    "\n",
    "# Função que executará a separação das imagens (utiliza algoritmo de aleatoriedade)\n",
    "def split_dataset(classe):\n",
    "    dataset_treinamento_classe_dir = os.path.join(dataset_treinamento_dir, classe) # Dir. destino treinamento classe\n",
    "    dataset_teste_classe_dir = os.path.join(dataset_teste_dir, classe) # Dir. destino teste classe\n",
    "\n",
    "    # Dir. origem imagens classe\n",
    "    dataset_classe_dir = os.path.join(projeto_dir, 'imagens', classe)\n",
    "    imagens_classe = [os.path.join(dataset_classe_dir, img) for img in os.listdir(dataset_classe_dir)] # Popular lista com imagens\n",
    "\n",
    "    imagens_treinamento, imagens_temp = train_test_split(imagens_classe, test_size=proporcao_validacao + proporcao_teste, random_state=random_seed)\n",
    "    imagens_validacao, imagens_teste = train_test_split(imagens_temp, test_size=proporcao_teste / (proporcao_validacao + proporcao_teste), random_state=random_seed)\n",
    "\n",
    "    # Criação dos diretórios para as classes\n",
    "    os.makedirs(os.path.join(dataset_treinamento_dir, classe), exist_ok=True)\n",
    "    os.makedirs(os.path.join(dataset_validacao_dir, classe), exist_ok=True)\n",
    "    os.makedirs(os.path.join(dataset_teste_dir, classe), exist_ok=True)\n",
    "    \n",
    "    imagens_classe = [os.path.join(dataset_classe_dir, img) for img in os.listdir(dataset_classe_dir)]\n",
    "\n",
    "    # Copia as imagens para as pastas correspondentes\n",
    "    for imagem in imagens_treinamento:\n",
    "        shutil.copy(imagem, os.path.join(dataset_treinamento_dir, classe))\n",
    "    for imagem in imagens_validacao:\n",
    "        shutil.copy(imagem, os.path.join(dataset_validacao_dir, classe))\n",
    "    for imagem in imagens_teste:\n",
    "        shutil.copy(imagem, os.path.join(dataset_teste_dir, classe))\n",
    "\n",
    "# Verifica se os diretórios de treinamento, validação e teste já existem\n",
    "if not os.path.exists(dataset_treinamento_dir) or not os.path.exists(dataset_validacao_dir) or not os.path.exists(dataset_teste_dir):\n",
    "    # Cria os diretórios\n",
    "    os.makedirs(dataset_treinamento_dir, exist_ok=True)\n",
    "    os.makedirs(dataset_validacao_dir, exist_ok=True)\n",
    "    os.makedirs(dataset_teste_dir, exist_ok=True)\n",
    "\n",
    "    # Para cada classe, executa a função de separação de dados\n",
    "    for classe in classes:\n",
    "        split_dataset(classe)"
   ]
  },
  {
   "cell_type": "code",
   "execution_count": 8,
   "id": "60c7c32a-e4e8-435b-b67d-0e8ee0e51f06",
   "metadata": {},
   "outputs": [
    {
     "name": "stdout",
     "output_type": "stream",
     "text": [
      "Contagem de imagens de morango para treinamento: 183\n",
      "Contagem de imagens de morango para teste: 62\n",
      "Contagem de imagens de morango para validacao: 61\n",
      "Contagem de imagens de pêssego para treinamento: 182\n",
      "Contagem de imagens de pêssego para teste: 61\n",
      "Contagem de imagens de pêssego para validacao: 61\n",
      "Contagem de imagens de romã para treinamento: 186\n",
      "Contagem de imagens de romã para teste: 63\n",
      "Contagem de imagens de romã para validacao: 62\n"
     ]
    }
   ],
   "source": [
    "# Função para contar o número de imagens de cada diretório\n",
    "def contar_imagens(diretorio):\n",
    "    return sum([len(files) for root, dirs, files in os.walk(diretorio)])\n",
    "\n",
    "# Contagem de imagens para treinamento e teste de cada classe\n",
    "dataset_treinamento_morango_len = contar_imagens(os.path.join(dataset_treinamento_dir, 'morango'))\n",
    "dataset_teste_morango_len = contar_imagens(os.path.join(dataset_teste_dir, 'morango'))\n",
    "dataset_validacao_morango_len = contar_imagens(os.path.join(dataset_validacao_dir, 'morango'))\n",
    "dataset_treinamento_pessego_len = contar_imagens(os.path.join(dataset_treinamento_dir, 'pessego'))\n",
    "dataset_teste_pessego_len = contar_imagens(os.path.join(dataset_teste_dir, 'pessego'))\n",
    "dataset_validacao_pessego_len = contar_imagens(os.path.join(dataset_validacao_dir, 'pessego'))\n",
    "dataset_treinamento_roma_len = contar_imagens(os.path.join(dataset_treinamento_dir, 'roma'))\n",
    "dataset_teste_roma_len = contar_imagens(os.path.join(dataset_teste_dir, 'roma'))\n",
    "dataset_validacao_roma_len = contar_imagens(os.path.join(dataset_validacao_dir, 'roma'))\n",
    "\n",
    "# Impressão das contagens\n",
    "print(f'Contagem de imagens de morango para treinamento: {dataset_treinamento_morango_len}')\n",
    "print(f'Contagem de imagens de morango para teste: {dataset_teste_morango_len}')\n",
    "print(f'Contagem de imagens de morango para validacao: {dataset_validacao_morango_len}')\n",
    "print(f'Contagem de imagens de pêssego para treinamento: {dataset_treinamento_pessego_len}')\n",
    "print(f'Contagem de imagens de pêssego para teste: {dataset_teste_pessego_len}')\n",
    "print(f'Contagem de imagens de pêssego para validacao: {dataset_validacao_pessego_len}')\n",
    "print(f'Contagem de imagens de romã para treinamento: {dataset_treinamento_roma_len}')\n",
    "print(f'Contagem de imagens de romã para teste: {dataset_teste_roma_len}')\n",
    "print(f'Contagem de imagens de romã para validacao: {dataset_validacao_roma_len}')\n"
   ]
  },
  {
   "cell_type": "code",
   "execution_count": 9,
   "id": "8e820b6a-891f-4d1d-8934-59dc4f5c427f",
   "metadata": {},
   "outputs": [
    {
     "name": "stdout",
     "output_type": "stream",
     "text": [
      "/home/matheus/Documentos/GitHub/esw-pin3-projeto/modelo_1/imagens_treinamento\n",
      "/home/matheus/Documentos/GitHub/esw-pin3-projeto/modelo_1/imagens_teste\n",
      "Found 551 files belonging to 3 classes.\n"
     ]
    },
    {
     "name": "stdout",
     "output_type": "stream",
     "text": [
      "Found 184 files belonging to 3 classes.\n",
      "Found 186 files belonging to 3 classes.\n"
     ]
    }
   ],
   "source": [
    "## 4. Pré-processamento das imagens\n",
    "## --> Definir tamanho de entrada das minhas imagens (em px)\n",
    "## --> Definir qual estratégia de conversão adotar (scaling da imagem / foco no centro da imagem ignorando periferia / recortar imagem até no limite do tamanho definido e ignorar o restante)\n",
    "\n",
    "'''\n",
    "Considerações sobre a abordagem:\n",
    "O pré-processamento é feito pela função \"tf.keras.preprocessing.image_dataset_from_directory\". Essa função permite especificar o tamanho das imagens e aplica automaticamente a normalização durante o carregamento das imagens. Além disso, aplica embaralhamento\n",
    "e carrega as imagens em lotes (batch). Por fim, as imagens são consideradas como tensores do TensorFlow.\n",
    "'''\n",
    "\n",
    "import os\n",
    "import tensorflow as tf\n",
    "\n",
    "image_width = 300\n",
    "image_heigth = 300\n",
    "image_size = (image_width, image_heigth)\n",
    "\n",
    "image_color_channel = 3\n",
    "image_color_channel_size = 255\n",
    "image_shape = image_size + (image_color_channel,)\n",
    "\n",
    "batch_size = 32 # Valor que vou puxar do dataset por vez\n",
    "epoch = 20 # Quantidade de vezes que vou percorrer meu dataset inteiro\n",
    "learning_rate = 0.0001 # Taxa de aprendizagem\n",
    "\n",
    "classes = ['morango', 'pessego', 'roma']\n",
    "\n",
    "print(dataset_treinamento_dir)\n",
    "print(dataset_teste_dir)\n",
    "\n",
    "data_set_treinamento = tf.keras.preprocessing.image_dataset_from_directory(\n",
    "    dataset_treinamento_dir,\n",
    "    image_size = image_size,\n",
    "    batch_size = batch_size,\n",
    "    shuffle = True, # Embaralhamento\n",
    "    label_mode='categorical' # Carrega os dados em formato one-hot\n",
    ")\n",
    "\n",
    "data_set_validacao = tf.keras.preprocessing.image_dataset_from_directory(\n",
    "    dataset_validacao_dir,\n",
    "    image_size = image_size,\n",
    "    batch_size = batch_size,\n",
    "    shuffle = False,\n",
    "    label_mode='categorical'\n",
    ")\n",
    "\n",
    "data_set_teste = tf.keras.preprocessing.image_dataset_from_directory(\n",
    "    dataset_teste_dir,\n",
    "    image_size = image_size,\n",
    "    batch_size = batch_size,\n",
    "    shuffle = False, # Não é necessário embaralhar os dados de teste\n",
    "    label_mode='categorical'\n",
    ")"
   ]
  },
  {
   "cell_type": "code",
   "execution_count": 10,
   "id": "8fe27dfb",
   "metadata": {},
   "outputs": [],
   "source": [
    "# 5. Definição da arquitetura da rede neural do modelo\n",
    "\n",
    "from tensorflow.keras.models import Sequential\n",
    "from tensorflow.keras.layers import Conv2D, MaxPooling2D, Flatten, Dense, Dropout, BatchNormalization, Input\n",
    "from tensorflow.keras.losses import CategoricalCrossentropy\n",
    "from tensorflow.keras.optimizers import Adam, SGD, RMSprop\n",
    "\n",
    "def create_model(learning_rate, optimizer):\n",
    "  \"\"\"\n",
    "  Cria um modelo de rede neural convolucional com parâmetros específicos.\n",
    "\n",
    "  Args:\n",
    "      learning_rate (float): A taxa de aprendizado para o otimizador especificado.\n",
    "      optimizer (str): O nome do otimizador a ser utilizado ('adam', 'sgd', ou 'rmsprop').\n",
    "\n",
    "  Returns:\n",
    "      tf.keras.models.Sequential: O modelo criado.\n",
    "  \"\"\"\n",
    "\n",
    "  # Define o otimizador com base no parâmetro passado\n",
    "  if optimizer == 'adam':\n",
    "      optimizer = Adam(learning_rate)\n",
    "  elif optimizer == 'sgd':\n",
    "      optimizer = SGD(learning_rate)\n",
    "  elif optimizer == 'rmsprop':\n",
    "      optimizer = RMSprop(learning_rate)\n",
    "  else:\n",
    "      raise ValueError(\"Otimizador inválido. Escolha entre 'adam', 'sgd' ou 'rmsprop'.\")\n",
    "\n",
    "  # Arquitetura da rede do modelo implementado:\n",
    "  arc_model = Sequential([\n",
    "    # Definição do tipo de entrada: imagens de 300x300 pixels com 3 canais de cores (RGB) \n",
    "    Input(shape=(300,300,3)),\n",
    "\n",
    "    # Primeira camada: convolucional com 32 filtros de tamanho 3x3, utilizando a função de ativação ReLU\n",
    "    # Cada filtro aprende padrões diferentes de cada imagem.\n",
    "    # Tamanho 3x3 significa que o filtro vai processar com fragmentos de 3x3 pixels\n",
    "    # Função de ativação: introduz não linearidade na rede.\n",
    "    Conv2D(32, (3,3), activation='relu'),\n",
    "\n",
    "    # Camada de normalização de batch, para normalizar a ativação da camada anterior\n",
    "    # Ajuda a estabilizar e normalizar as ativações durante o treinamento.\n",
    "    BatchNormalization(),\n",
    "\n",
    "    # Camada de MaxPooling, realiza downsampling (compressão) da entrada\n",
    "    # Processa em tamanho de 2x2 pixels \n",
    "    MaxPooling2D((2,2)),\n",
    "\n",
    "    # Mais uma camada Conv2D, com 64 filtros de tamanho 3x3, com função de ativação ReLU\n",
    "    Conv2D(64, (3,3), activation='relu'),\n",
    "\n",
    "    # Outra camada de normalização de batch, para normalizar a ativação da camada anterior\n",
    "    BatchNormalization(),\n",
    "\n",
    "    # Outra Camda de MaxPooling\n",
    "    MaxPooling2D((2,2)),\n",
    "\n",
    "    # Camada de achatamento (Flatten) para transformar os mapas de características 2D em um vetor 1D\n",
    "    # Esta camada prepara os dados para entrada nas camadas densas (abaixo)\n",
    "    Flatten(),\n",
    "    \n",
    "    # Camada densa (totalmente conectada) com 128 neurônios e função de ativação ReLU\n",
    "    Dense(128, activation='relu'),\n",
    "    \n",
    "    # Mias uma camada de normalização de batch, para normalizar a ativação da camada anterior\n",
    "    BatchNormalization(),\n",
    "\n",
    "    # Mais uma camada densa com 64 neurônios e função de ativação ReLU\n",
    "    Dense(64, activation='relu'),\n",
    "    \n",
    "    # Camada de Dropout para prevenir overfitting, desativando aleatoriamente 50% dos neurônios\n",
    "    Dropout(0.5),\n",
    "    \n",
    "    # Camada de saída com 3 neurônios (um para cada classe) e função de ativação softmax para a classificação multiclasse\n",
    "    # A saída é uma distribuição de probabilidade sobre as classes\n",
    "    Dense(3, activation='softmax')\n",
    "  ])\n",
    "\n",
    "  # Compilação do modelo\n",
    "  # Aqui, utilizamos a função de perda conforme espeficicado no documento do projeto\n",
    "  # Função de perda: crossentropy, que irá calcular a diferença entre as previsões realizadas pelo modelo e os rótulos verdadeiros associados aos dados de treinamento.\n",
    "  arc_model.compile(optimizer=optimizer, loss=CategoricalCrossentropy(), metrics=['accuracy'])\n",
    "\n",
    "  return arc_model\n",
    "\n",
    "\n",
    "# Além disso, testaremos 3 tipos de funções de otimização:\n",
    "\n",
    "# Modelo com função de otimização Adam\n",
    "model_adam = create_model(optimizer='adam', learning_rate=0.0001)\n",
    "\n",
    "# Modelo com função de otimização SGD\n",
    "model_sgd = create_model(optimizer='sgd', learning_rate=0.0001)\n",
    "\n",
    "# Modelo com função de otimização RMSprop\n",
    "model_rmsprop = create_model(optimizer='sgd', learning_rate=0.0001)"
   ]
  },
  {
   "cell_type": "code",
   "execution_count": 11,
   "id": "3bc18158",
   "metadata": {},
   "outputs": [
    {
     "name": "stdout",
     "output_type": "stream",
     "text": [
      "Epoch 1/20\n"
     ]
    },
    {
     "name": "stderr",
     "output_type": "stream",
     "text": [
      "2024-04-21 15:51:42.717574: W external/local_tsl/tsl/framework/cpu_allocator_impl.cc:83] Allocation of 363741184 exceeds 10% of free system memory.\n",
      "2024-04-21 15:51:43.268761: W external/local_tsl/tsl/framework/cpu_allocator_impl.cc:83] Allocation of 363741184 exceeds 10% of free system memory.\n",
      "2024-04-21 15:51:43.609769: W external/local_tsl/tsl/framework/cpu_allocator_impl.cc:83] Allocation of 363741184 exceeds 10% of free system memory.\n",
      "2024-04-21 15:51:48.025049: W external/local_tsl/tsl/framework/cpu_allocator_impl.cc:83] Allocation of 363741184 exceeds 10% of free system memory.\n",
      "2024-04-21 15:51:48.025567: W external/local_tsl/tsl/framework/cpu_allocator_impl.cc:83] Allocation of 363741184 exceeds 10% of free system memory.\n"
     ]
    },
    {
     "name": "stdout",
     "output_type": "stream",
     "text": [
      "\u001b[1m1/1\u001b[0m \u001b[32m━━━━━━━━━━━━━━━━━━━━\u001b[0m\u001b[37m\u001b[0m \u001b[1m1s\u001b[0m 1s/stepep - accuracy: 0.5588 - loss: 1.200\n",
      "\u001b[1m1/1\u001b[0m \u001b[32m━━━━━━━━━━━━━━━━━━━━\u001b[0m\u001b[37m\u001b[0m \u001b[1m1s\u001b[0m 1s/step\n",
      "\u001b[1m1/1\u001b[0m \u001b[32m━━━━━━━━━━━━━━━━━━━━\u001b[0m\u001b[37m\u001b[0m \u001b[1m1s\u001b[0m 1s/step\n",
      "\u001b[1m1/1\u001b[0m \u001b[32m━━━━━━━━━━━━━━━━━━━━\u001b[0m\u001b[37m\u001b[0m \u001b[1m1s\u001b[0m 1s/step\n",
      "\u001b[1m1/1\u001b[0m \u001b[32m━━━━━━━━━━━━━━━━━━━━\u001b[0m\u001b[37m\u001b[0m \u001b[1m1s\u001b[0m 1s/step\n",
      "\u001b[1m1/1\u001b[0m \u001b[32m━━━━━━━━━━━━━━━━━━━━\u001b[0m\u001b[37m\u001b[0m \u001b[1m1s\u001b[0m 1s/step\n",
      "Matriz de confusão: \n",
      "[[61  0  0]\n",
      " [54  3  4]\n",
      " [53  0  9]]\n",
      "Acurácia da epoch:  0.3967391304347826\n",
      "\u001b[1m18/18\u001b[0m \u001b[32m━━━━━━━━━━━━━━━━━━━━\u001b[0m\u001b[37m\u001b[0m \u001b[1m149s\u001b[0m 8s/step - accuracy: 0.5636 - loss: 1.1870 - val_accuracy: 0.3967 - val_loss: 8.9221\n",
      "Epoch 2/20\n"
     ]
    },
    {
     "name": "stderr",
     "output_type": "stream",
     "text": [
      "2024-04-21 15:54:04.204443: W tensorflow/core/framework/local_rendezvous.cc:404] Local rendezvous is aborting with status: OUT_OF_RANGE: End of sequence\n"
     ]
    },
    {
     "name": "stdout",
     "output_type": "stream",
     "text": [
      "\u001b[1m1/1\u001b[0m \u001b[32m━━━━━━━━━━━━━━━━━━━━\u001b[0m\u001b[37m\u001b[0m \u001b[1m1s\u001b[0m 1s/stepep - accuracy: 0.8163 - loss: 0.584\n",
      "\u001b[1m1/1\u001b[0m \u001b[32m━━━━━━━━━━━━━━━━━━━━\u001b[0m\u001b[37m\u001b[0m \u001b[1m1s\u001b[0m 1s/step\n",
      "\u001b[1m1/1\u001b[0m \u001b[32m━━━━━━━━━━━━━━━━━━━━\u001b[0m\u001b[37m\u001b[0m \u001b[1m1s\u001b[0m 1s/step\n",
      "\u001b[1m1/1\u001b[0m \u001b[32m━━━━━━━━━━━━━━━━━━━━\u001b[0m\u001b[37m\u001b[0m \u001b[1m1s\u001b[0m 1s/step\n",
      "\u001b[1m1/1\u001b[0m \u001b[32m━━━━━━━━━━━━━━━━━━━━\u001b[0m\u001b[37m\u001b[0m \u001b[1m1s\u001b[0m 1s/step\n",
      "\u001b[1m1/1\u001b[0m \u001b[32m━━━━━━━━━━━━━━━━━━━━\u001b[0m\u001b[37m\u001b[0m \u001b[1m1s\u001b[0m 996ms/step\n",
      "Matriz de confusão: \n",
      "[[60  0  1]\n",
      " [53  4  4]\n",
      " [53  0  9]]\n",
      "Acurácia da epoch:  0.3967391304347826\n",
      "\u001b[1m18/18\u001b[0m \u001b[32m━━━━━━━━━━━━━━━━━━━━\u001b[0m\u001b[37m\u001b[0m \u001b[1m148s\u001b[0m 8s/step - accuracy: 0.8166 - loss: 0.5827 - val_accuracy: 0.3967 - val_loss: 4.6768\n",
      "Epoch 3/20\n"
     ]
    },
    {
     "name": "stderr",
     "output_type": "stream",
     "text": [
      "2024-04-21 15:56:31.930409: W tensorflow/core/framework/local_rendezvous.cc:404] Local rendezvous is aborting with status: OUT_OF_RANGE: End of sequence\n"
     ]
    },
    {
     "name": "stdout",
     "output_type": "stream",
     "text": [
      "\u001b[1m1/1\u001b[0m \u001b[32m━━━━━━━━━━━━━━━━━━━━\u001b[0m\u001b[37m\u001b[0m \u001b[1m1s\u001b[0m 1s/stepep - accuracy: 0.8134 - loss: 0.436\n",
      "\u001b[1m1/1\u001b[0m \u001b[32m━━━━━━━━━━━━━━━━━━━━\u001b[0m\u001b[37m\u001b[0m \u001b[1m1s\u001b[0m 1s/step\n",
      "\u001b[1m1/1\u001b[0m \u001b[32m━━━━━━━━━━━━━━━━━━━━\u001b[0m\u001b[37m\u001b[0m \u001b[1m1s\u001b[0m 1s/step\n",
      "\u001b[1m1/1\u001b[0m \u001b[32m━━━━━━━━━━━━━━━━━━━━\u001b[0m\u001b[37m\u001b[0m \u001b[1m1s\u001b[0m 1s/step\n",
      "\u001b[1m1/1\u001b[0m \u001b[32m━━━━━━━━━━━━━━━━━━━━\u001b[0m\u001b[37m\u001b[0m \u001b[1m1s\u001b[0m 1s/step\n",
      "\u001b[1m1/1\u001b[0m \u001b[32m━━━━━━━━━━━━━━━━━━━━\u001b[0m\u001b[37m\u001b[0m \u001b[1m1s\u001b[0m 1s/step\n",
      "Matriz de confusão: \n",
      "[[60  0  1]\n",
      " [46 12  3]\n",
      " [50  0 12]]\n",
      "Acurácia da epoch:  0.45652173913043476\n",
      "\u001b[1m18/18\u001b[0m \u001b[32m━━━━━━━━━━━━━━━━━━━━\u001b[0m\u001b[37m\u001b[0m \u001b[1m149s\u001b[0m 8s/step - accuracy: 0.8151 - loss: 0.4351 - val_accuracy: 0.4565 - val_loss: 2.0095\n",
      "Epoch 4/20\n"
     ]
    },
    {
     "name": "stderr",
     "output_type": "stream",
     "text": [
      "2024-04-21 15:59:00.609964: W tensorflow/core/framework/local_rendezvous.cc:404] Local rendezvous is aborting with status: OUT_OF_RANGE: End of sequence\n"
     ]
    },
    {
     "name": "stdout",
     "output_type": "stream",
     "text": [
      "\u001b[1m1/1\u001b[0m \u001b[32m━━━━━━━━━━━━━━━━━━━━\u001b[0m\u001b[37m\u001b[0m \u001b[1m1s\u001b[0m 1s/stepep - accuracy: 0.8733 - loss: 0.351\n",
      "\u001b[1m1/1\u001b[0m \u001b[32m━━━━━━━━━━━━━━━━━━━━\u001b[0m\u001b[37m\u001b[0m \u001b[1m1s\u001b[0m 1s/step\n",
      "\u001b[1m1/1\u001b[0m \u001b[32m━━━━━━━━━━━━━━━━━━━━\u001b[0m\u001b[37m\u001b[0m \u001b[1m1s\u001b[0m 1s/step\n",
      "\u001b[1m1/1\u001b[0m \u001b[32m━━━━━━━━━━━━━━━━━━━━\u001b[0m\u001b[37m\u001b[0m \u001b[1m1s\u001b[0m 1s/step\n",
      "\u001b[1m1/1\u001b[0m \u001b[32m━━━━━━━━━━━━━━━━━━━━\u001b[0m\u001b[37m\u001b[0m \u001b[1m1s\u001b[0m 1s/step\n",
      "\u001b[1m1/1\u001b[0m \u001b[32m━━━━━━━━━━━━━━━━━━━━\u001b[0m\u001b[37m\u001b[0m \u001b[1m1s\u001b[0m 1s/step\n",
      "Matriz de confusão: \n",
      "[[58  1  2]\n",
      " [30 31  0]\n",
      " [45  2 15]]\n",
      "Acurácia da epoch:  0.5652173913043478\n",
      "\u001b[1m18/18\u001b[0m \u001b[32m━━━━━━━━━━━━━━━━━━━━\u001b[0m\u001b[37m\u001b[0m \u001b[1m152s\u001b[0m 8s/step - accuracy: 0.8735 - loss: 0.3536 - val_accuracy: 0.5652 - val_loss: 1.1813\n",
      "Epoch 5/20\n"
     ]
    },
    {
     "name": "stderr",
     "output_type": "stream",
     "text": [
      "2024-04-21 16:01:32.497062: W tensorflow/core/framework/local_rendezvous.cc:404] Local rendezvous is aborting with status: OUT_OF_RANGE: End of sequence\n"
     ]
    },
    {
     "name": "stdout",
     "output_type": "stream",
     "text": [
      "\u001b[1m1/1\u001b[0m \u001b[32m━━━━━━━━━━━━━━━━━━━━\u001b[0m\u001b[37m\u001b[0m \u001b[1m1s\u001b[0m 1s/stepep - accuracy: 0.8896 - loss: 0.282\n",
      "\u001b[1m1/1\u001b[0m \u001b[32m━━━━━━━━━━━━━━━━━━━━\u001b[0m\u001b[37m\u001b[0m \u001b[1m1s\u001b[0m 1s/step\n",
      "\u001b[1m1/1\u001b[0m \u001b[32m━━━━━━━━━━━━━━━━━━━━\u001b[0m\u001b[37m\u001b[0m \u001b[1m1s\u001b[0m 1s/step\n",
      "\u001b[1m1/1\u001b[0m \u001b[32m━━━━━━━━━━━━━━━━━━━━\u001b[0m\u001b[37m\u001b[0m \u001b[1m1s\u001b[0m 1s/step\n",
      "\u001b[1m1/1\u001b[0m \u001b[32m━━━━━━━━━━━━━━━━━━━━\u001b[0m\u001b[37m\u001b[0m \u001b[1m1s\u001b[0m 1s/step\n",
      "\u001b[1m1/1\u001b[0m \u001b[32m━━━━━━━━━━━━━━━━━━━━\u001b[0m\u001b[37m\u001b[0m \u001b[1m1s\u001b[0m 790ms/step\n",
      "Matriz de confusão: \n",
      "[[57  1  3]\n",
      " [16 39  6]\n",
      " [20  6 36]]\n",
      "Acurácia da epoch:  0.717391304347826\n",
      "\u001b[1m18/18\u001b[0m \u001b[32m━━━━━━━━━━━━━━━━━━━━\u001b[0m\u001b[37m\u001b[0m \u001b[1m148s\u001b[0m 8s/step - accuracy: 0.8900 - loss: 0.2831 - val_accuracy: 0.7174 - val_loss: 0.6514\n",
      "Epoch 6/20\n"
     ]
    },
    {
     "name": "stderr",
     "output_type": "stream",
     "text": [
      "2024-04-21 16:04:00.972417: W tensorflow/core/framework/local_rendezvous.cc:404] Local rendezvous is aborting with status: OUT_OF_RANGE: End of sequence\n"
     ]
    },
    {
     "name": "stdout",
     "output_type": "stream",
     "text": [
      "\u001b[1m1/1\u001b[0m \u001b[32m━━━━━━━━━━━━━━━━━━━━\u001b[0m\u001b[37m\u001b[0m \u001b[1m1s\u001b[0m 1s/stepep - accuracy: 0.9242 - loss: 0.223\n",
      "\u001b[1m1/1\u001b[0m \u001b[32m━━━━━━━━━━━━━━━━━━━━\u001b[0m\u001b[37m\u001b[0m \u001b[1m1s\u001b[0m 1s/step\n",
      "\u001b[1m1/1\u001b[0m \u001b[32m━━━━━━━━━━━━━━━━━━━━\u001b[0m\u001b[37m\u001b[0m \u001b[1m1s\u001b[0m 1s/step\n",
      "\u001b[1m1/1\u001b[0m \u001b[32m━━━━━━━━━━━━━━━━━━━━\u001b[0m\u001b[37m\u001b[0m \u001b[1m1s\u001b[0m 1s/step\n",
      "\u001b[1m1/1\u001b[0m \u001b[32m━━━━━━━━━━━━━━━━━━━━\u001b[0m\u001b[37m\u001b[0m \u001b[1m1s\u001b[0m 1s/step\n",
      "\u001b[1m1/1\u001b[0m \u001b[32m━━━━━━━━━━━━━━━━━━━━\u001b[0m\u001b[37m\u001b[0m \u001b[1m1s\u001b[0m 865ms/step\n",
      "Matriz de confusão: \n",
      "[[58  1  2]\n",
      " [12 45  4]\n",
      " [19  9 34]]\n",
      "Acurácia da epoch:  0.7445652173913043\n",
      "\u001b[1m18/18\u001b[0m \u001b[32m━━━━━━━━━━━━━━━━━━━━\u001b[0m\u001b[37m\u001b[0m \u001b[1m137s\u001b[0m 8s/step - accuracy: 0.9240 - loss: 0.2237 - val_accuracy: 0.7446 - val_loss: 0.5736\n",
      "Epoch 7/20\n"
     ]
    },
    {
     "name": "stderr",
     "output_type": "stream",
     "text": [
      "2024-04-21 16:06:18.396404: W tensorflow/core/framework/local_rendezvous.cc:404] Local rendezvous is aborting with status: OUT_OF_RANGE: End of sequence\n"
     ]
    },
    {
     "name": "stdout",
     "output_type": "stream",
     "text": [
      "\u001b[1m1/1\u001b[0m \u001b[32m━━━━━━━━━━━━━━━━━━━━\u001b[0m\u001b[37m\u001b[0m \u001b[1m1s\u001b[0m 1s/stepep - accuracy: 0.9156 - loss: 0.214\n",
      "\u001b[1m1/1\u001b[0m \u001b[32m━━━━━━━━━━━━━━━━━━━━\u001b[0m\u001b[37m\u001b[0m \u001b[1m1s\u001b[0m 1s/step\n",
      "\u001b[1m1/1\u001b[0m \u001b[32m━━━━━━━━━━━━━━━━━━━━\u001b[0m\u001b[37m\u001b[0m \u001b[1m1s\u001b[0m 1s/step\n",
      "\u001b[1m1/1\u001b[0m \u001b[32m━━━━━━━━━━━━━━━━━━━━\u001b[0m\u001b[37m\u001b[0m \u001b[1m1s\u001b[0m 1s/step\n",
      "\u001b[1m1/1\u001b[0m \u001b[32m━━━━━━━━━━━━━━━━━━━━\u001b[0m\u001b[37m\u001b[0m \u001b[1m1s\u001b[0m 1s/step\n",
      "\u001b[1m1/1\u001b[0m \u001b[32m━━━━━━━━━━━━━━━━━━━━\u001b[0m\u001b[37m\u001b[0m \u001b[1m1s\u001b[0m 973ms/step\n",
      "Matriz de confusão: \n",
      "[[56  1  4]\n",
      " [ 6 50  5]\n",
      " [14  9 39]]\n",
      "Acurácia da epoch:  0.7880434782608695\n",
      "\u001b[1m18/18\u001b[0m \u001b[32m━━━━━━━━━━━━━━━━━━━━\u001b[0m\u001b[37m\u001b[0m \u001b[1m140s\u001b[0m 8s/step - accuracy: 0.9162 - loss: 0.2138 - val_accuracy: 0.7880 - val_loss: 0.4606\n",
      "Epoch 8/20\n"
     ]
    },
    {
     "name": "stderr",
     "output_type": "stream",
     "text": [
      "2024-04-21 16:08:38.803284: W tensorflow/core/framework/local_rendezvous.cc:404] Local rendezvous is aborting with status: OUT_OF_RANGE: End of sequence\n"
     ]
    },
    {
     "name": "stdout",
     "output_type": "stream",
     "text": [
      "\u001b[1m1/1\u001b[0m \u001b[32m━━━━━━━━━━━━━━━━━━━━\u001b[0m\u001b[37m\u001b[0m \u001b[1m1s\u001b[0m 1s/stepep - accuracy: 0.9550 - loss: 0.180\n",
      "\u001b[1m1/1\u001b[0m \u001b[32m━━━━━━━━━━━━━━━━━━━━\u001b[0m\u001b[37m\u001b[0m \u001b[1m1s\u001b[0m 1s/step\n",
      "\u001b[1m1/1\u001b[0m \u001b[32m━━━━━━━━━━━━━━━━━━━━\u001b[0m\u001b[37m\u001b[0m \u001b[1m1s\u001b[0m 1s/step\n",
      "\u001b[1m1/1\u001b[0m \u001b[32m━━━━━━━━━━━━━━━━━━━━\u001b[0m\u001b[37m\u001b[0m \u001b[1m1s\u001b[0m 1s/step\n",
      "\u001b[1m1/1\u001b[0m \u001b[32m━━━━━━━━━━━━━━━━━━━━\u001b[0m\u001b[37m\u001b[0m \u001b[1m1s\u001b[0m 1s/step\n",
      "\u001b[1m1/1\u001b[0m \u001b[32m━━━━━━━━━━━━━━━━━━━━\u001b[0m\u001b[37m\u001b[0m \u001b[1m1s\u001b[0m 811ms/step\n",
      "Matriz de confusão: \n",
      "[[54  1  6]\n",
      " [ 3 50  8]\n",
      " [ 8 10 44]]\n",
      "Acurácia da epoch:  0.8043478260869565\n",
      "\u001b[1m18/18\u001b[0m \u001b[32m━━━━━━━━━━━━━━━━━━━━\u001b[0m\u001b[37m\u001b[0m \u001b[1m148s\u001b[0m 8s/step - accuracy: 0.9559 - loss: 0.1792 - val_accuracy: 0.8043 - val_loss: 0.4254\n",
      "Epoch 9/20\n"
     ]
    },
    {
     "name": "stderr",
     "output_type": "stream",
     "text": [
      "2024-04-21 16:11:06.682446: W tensorflow/core/framework/local_rendezvous.cc:404] Local rendezvous is aborting with status: OUT_OF_RANGE: End of sequence\n"
     ]
    },
    {
     "name": "stdout",
     "output_type": "stream",
     "text": [
      "\u001b[1m1/1\u001b[0m \u001b[32m━━━━━━━━━━━━━━━━━━━━\u001b[0m\u001b[37m\u001b[0m \u001b[1m1s\u001b[0m 1s/stepep - accuracy: 0.9629 - loss: 0.138\n",
      "\u001b[1m1/1\u001b[0m \u001b[32m━━━━━━━━━━━━━━━━━━━━\u001b[0m\u001b[37m\u001b[0m \u001b[1m1s\u001b[0m 1s/step\n",
      "\u001b[1m1/1\u001b[0m \u001b[32m━━━━━━━━━━━━━━━━━━━━\u001b[0m\u001b[37m\u001b[0m \u001b[1m1s\u001b[0m 1s/step\n",
      "\u001b[1m1/1\u001b[0m \u001b[32m━━━━━━━━━━━━━━━━━━━━\u001b[0m\u001b[37m\u001b[0m \u001b[1m1s\u001b[0m 1s/step\n",
      "\u001b[1m1/1\u001b[0m \u001b[32m━━━━━━━━━━━━━━━━━━━━\u001b[0m\u001b[37m\u001b[0m \u001b[1m1s\u001b[0m 1s/step\n",
      "\u001b[1m1/1\u001b[0m \u001b[32m━━━━━━━━━━━━━━━━━━━━\u001b[0m\u001b[37m\u001b[0m \u001b[1m1s\u001b[0m 895ms/step\n",
      "Matriz de confusão: \n",
      "[[54  1  6]\n",
      " [ 2 52  7]\n",
      " [ 9  9 44]]\n",
      "Acurácia da epoch:  0.8152173913043478\n",
      "\u001b[1m18/18\u001b[0m \u001b[32m━━━━━━━━━━━━━━━━━━━━\u001b[0m\u001b[37m\u001b[0m \u001b[1m136s\u001b[0m 8s/step - accuracy: 0.9627 - loss: 0.1394 - val_accuracy: 0.8152 - val_loss: 0.4220\n",
      "Epoch 10/20\n"
     ]
    },
    {
     "name": "stderr",
     "output_type": "stream",
     "text": [
      "2024-04-21 16:13:22.771461: W tensorflow/core/framework/local_rendezvous.cc:404] Local rendezvous is aborting with status: OUT_OF_RANGE: End of sequence\n"
     ]
    },
    {
     "name": "stdout",
     "output_type": "stream",
     "text": [
      "\u001b[1m1/1\u001b[0m \u001b[32m━━━━━━━━━━━━━━━━━━━━\u001b[0m\u001b[37m\u001b[0m \u001b[1m1s\u001b[0m 1s/stepep - accuracy: 0.9632 - loss: 0.120\n",
      "\u001b[1m1/1\u001b[0m \u001b[32m━━━━━━━━━━━━━━━━━━━━\u001b[0m\u001b[37m\u001b[0m \u001b[1m1s\u001b[0m 1s/step\n",
      "\u001b[1m1/1\u001b[0m \u001b[32m━━━━━━━━━━━━━━━━━━━━\u001b[0m\u001b[37m\u001b[0m \u001b[1m1s\u001b[0m 1s/step\n",
      "\u001b[1m1/1\u001b[0m \u001b[32m━━━━━━━━━━━━━━━━━━━━\u001b[0m\u001b[37m\u001b[0m \u001b[1m1s\u001b[0m 1s/step\n",
      "\u001b[1m1/1\u001b[0m \u001b[32m━━━━━━━━━━━━━━━━━━━━\u001b[0m\u001b[37m\u001b[0m \u001b[1m1s\u001b[0m 1s/step\n",
      "\u001b[1m1/1\u001b[0m \u001b[32m━━━━━━━━━━━━━━━━━━━━\u001b[0m\u001b[37m\u001b[0m \u001b[1m1s\u001b[0m 974ms/step\n",
      "Matriz de confusão: \n",
      "[[52  2  7]\n",
      " [ 1 55  5]\n",
      " [ 9 10 43]]\n",
      "Acurácia da epoch:  0.8152173913043478\n",
      "\u001b[1m18/18\u001b[0m \u001b[32m━━━━━━━━━━━━━━━━━━━━\u001b[0m\u001b[37m\u001b[0m \u001b[1m144s\u001b[0m 8s/step - accuracy: 0.9634 - loss: 0.1203 - val_accuracy: 0.8152 - val_loss: 0.4309\n",
      "Epoch 11/20\n"
     ]
    },
    {
     "name": "stderr",
     "output_type": "stream",
     "text": [
      "2024-04-21 16:15:47.112460: W tensorflow/core/framework/local_rendezvous.cc:404] Local rendezvous is aborting with status: OUT_OF_RANGE: End of sequence\n"
     ]
    },
    {
     "name": "stdout",
     "output_type": "stream",
     "text": [
      "\u001b[1m1/1\u001b[0m \u001b[32m━━━━━━━━━━━━━━━━━━━━\u001b[0m\u001b[37m\u001b[0m \u001b[1m1s\u001b[0m 1s/stepep - accuracy: 0.9760 - loss: 0.123\n",
      "\u001b[1m1/1\u001b[0m \u001b[32m━━━━━━━━━━━━━━━━━━━━\u001b[0m\u001b[37m\u001b[0m \u001b[1m1s\u001b[0m 1s/step\n",
      "\u001b[1m1/1\u001b[0m \u001b[32m━━━━━━━━━━━━━━━━━━━━\u001b[0m\u001b[37m\u001b[0m \u001b[1m1s\u001b[0m 1s/step\n",
      "\u001b[1m1/1\u001b[0m \u001b[32m━━━━━━━━━━━━━━━━━━━━\u001b[0m\u001b[37m\u001b[0m \u001b[1m1s\u001b[0m 1s/step\n",
      "\u001b[1m1/1\u001b[0m \u001b[32m━━━━━━━━━━━━━━━━━━━━\u001b[0m\u001b[37m\u001b[0m \u001b[1m1s\u001b[0m 1s/step\n",
      "\u001b[1m1/1\u001b[0m \u001b[32m━━━━━━━━━━━━━━━━━━━━\u001b[0m\u001b[37m\u001b[0m \u001b[1m1s\u001b[0m 934ms/step\n",
      "Matriz de confusão: \n",
      "[[53  2  6]\n",
      " [ 0 57  4]\n",
      " [ 7  9 46]]\n",
      "Acurácia da epoch:  0.8478260869565217\n",
      "\u001b[1m18/18\u001b[0m \u001b[32m━━━━━━━━━━━━━━━━━━━━\u001b[0m\u001b[37m\u001b[0m \u001b[1m144s\u001b[0m 8s/step - accuracy: 0.9762 - loss: 0.1223 - val_accuracy: 0.8478 - val_loss: 0.4144\n",
      "Epoch 12/20\n"
     ]
    },
    {
     "name": "stderr",
     "output_type": "stream",
     "text": [
      "2024-04-21 16:18:11.573876: W tensorflow/core/framework/local_rendezvous.cc:404] Local rendezvous is aborting with status: OUT_OF_RANGE: End of sequence\n"
     ]
    },
    {
     "name": "stdout",
     "output_type": "stream",
     "text": [
      "\u001b[1m1/1\u001b[0m \u001b[32m━━━━━━━━━━━━━━━━━━━━\u001b[0m\u001b[37m\u001b[0m \u001b[1m1s\u001b[0m 1s/stepep - accuracy: 0.9811 - loss: 0.088\n",
      "\u001b[1m1/1\u001b[0m \u001b[32m━━━━━━━━━━━━━━━━━━━━\u001b[0m\u001b[37m\u001b[0m \u001b[1m1s\u001b[0m 1s/step\n",
      "\u001b[1m1/1\u001b[0m \u001b[32m━━━━━━━━━━━━━━━━━━━━\u001b[0m\u001b[37m\u001b[0m \u001b[1m1s\u001b[0m 1s/step\n",
      "\u001b[1m1/1\u001b[0m \u001b[32m━━━━━━━━━━━━━━━━━━━━\u001b[0m\u001b[37m\u001b[0m \u001b[1m1s\u001b[0m 1s/step\n",
      "\u001b[1m1/1\u001b[0m \u001b[32m━━━━━━━━━━━━━━━━━━━━\u001b[0m\u001b[37m\u001b[0m \u001b[1m1s\u001b[0m 1s/step\n",
      "\u001b[1m1/1\u001b[0m \u001b[32m━━━━━━━━━━━━━━━━━━━━\u001b[0m\u001b[37m\u001b[0m \u001b[1m1s\u001b[0m 940ms/step\n",
      "Matriz de confusão: \n",
      "[[52  5  4]\n",
      " [ 0 59  2]\n",
      " [ 9 14 39]]\n",
      "Acurácia da epoch:  0.8152173913043478\n",
      "\u001b[1m18/18\u001b[0m \u001b[32m━━━━━━━━━━━━━━━━━━━━\u001b[0m\u001b[37m\u001b[0m \u001b[1m144s\u001b[0m 8s/step - accuracy: 0.9807 - loss: 0.0886 - val_accuracy: 0.8152 - val_loss: 0.4754\n",
      "Epoch 13/20\n"
     ]
    },
    {
     "name": "stderr",
     "output_type": "stream",
     "text": [
      "2024-04-21 16:20:35.701796: W tensorflow/core/framework/local_rendezvous.cc:404] Local rendezvous is aborting with status: OUT_OF_RANGE: End of sequence\n"
     ]
    },
    {
     "name": "stdout",
     "output_type": "stream",
     "text": [
      "\u001b[1m1/1\u001b[0m \u001b[32m━━━━━━━━━━━━━━━━━━━━\u001b[0m\u001b[37m\u001b[0m \u001b[1m1s\u001b[0m 1s/stepep - accuracy: 0.9825 - loss: 0.086\n",
      "\u001b[1m1/1\u001b[0m \u001b[32m━━━━━━━━━━━━━━━━━━━━\u001b[0m\u001b[37m\u001b[0m \u001b[1m1s\u001b[0m 1s/step\n",
      "\u001b[1m1/1\u001b[0m \u001b[32m━━━━━━━━━━━━━━━━━━━━\u001b[0m\u001b[37m\u001b[0m \u001b[1m1s\u001b[0m 1s/step\n",
      "\u001b[1m1/1\u001b[0m \u001b[32m━━━━━━━━━━━━━━━━━━━━\u001b[0m\u001b[37m\u001b[0m \u001b[1m1s\u001b[0m 1s/step\n",
      "\u001b[1m1/1\u001b[0m \u001b[32m━━━━━━━━━━━━━━━━━━━━\u001b[0m\u001b[37m\u001b[0m \u001b[1m1s\u001b[0m 1s/step\n",
      "\u001b[1m1/1\u001b[0m \u001b[32m━━━━━━━━━━━━━━━━━━━━\u001b[0m\u001b[37m\u001b[0m \u001b[1m1s\u001b[0m 923ms/step\n",
      "Matriz de confusão: \n",
      "[[49  3  9]\n",
      " [ 0 55  6]\n",
      " [ 4  9 49]]\n",
      "Acurácia da epoch:  0.8315217391304348\n",
      "\u001b[1m18/18\u001b[0m \u001b[32m━━━━━━━━━━━━━━━━━━━━\u001b[0m\u001b[37m\u001b[0m \u001b[1m147s\u001b[0m 8s/step - accuracy: 0.9826 - loss: 0.0863 - val_accuracy: 0.8315 - val_loss: 0.4295\n",
      "Epoch 14/20\n"
     ]
    },
    {
     "name": "stderr",
     "output_type": "stream",
     "text": [
      "2024-04-21 16:23:02.452024: W tensorflow/core/framework/local_rendezvous.cc:404] Local rendezvous is aborting with status: OUT_OF_RANGE: End of sequence\n"
     ]
    },
    {
     "name": "stdout",
     "output_type": "stream",
     "text": [
      "\u001b[1m1/1\u001b[0m \u001b[32m━━━━━━━━━━━━━━━━━━━━\u001b[0m\u001b[37m\u001b[0m \u001b[1m1s\u001b[0m 1s/stepep - accuracy: 0.9888 - loss: 0.069\n",
      "\u001b[1m1/1\u001b[0m \u001b[32m━━━━━━━━━━━━━━━━━━━━\u001b[0m\u001b[37m\u001b[0m \u001b[1m1s\u001b[0m 1s/step\n",
      "\u001b[1m1/1\u001b[0m \u001b[32m━━━━━━━━━━━━━━━━━━━━\u001b[0m\u001b[37m\u001b[0m \u001b[1m1s\u001b[0m 1s/step\n",
      "\u001b[1m1/1\u001b[0m \u001b[32m━━━━━━━━━━━━━━━━━━━━\u001b[0m\u001b[37m\u001b[0m \u001b[1m1s\u001b[0m 1s/step\n",
      "\u001b[1m1/1\u001b[0m \u001b[32m━━━━━━━━━━━━━━━━━━━━\u001b[0m\u001b[37m\u001b[0m \u001b[1m1s\u001b[0m 1s/step\n",
      "\u001b[1m1/1\u001b[0m \u001b[32m━━━━━━━━━━━━━━━━━━━━\u001b[0m\u001b[37m\u001b[0m \u001b[1m1s\u001b[0m 778ms/step\n",
      "Matriz de confusão: \n",
      "[[48  1 12]\n",
      " [ 0 50 11]\n",
      " [ 4  6 52]]\n",
      "Acurácia da epoch:  0.8152173913043478\n",
      "\u001b[1m18/18\u001b[0m \u001b[32m━━━━━━━━━━━━━━━━━━━━\u001b[0m\u001b[37m\u001b[0m \u001b[1m122s\u001b[0m 7s/step - accuracy: 0.9886 - loss: 0.0701 - val_accuracy: 0.8152 - val_loss: 0.4365\n",
      "Epoch 15/20\n"
     ]
    },
    {
     "name": "stderr",
     "output_type": "stream",
     "text": [
      "2024-04-21 16:25:04.424425: W tensorflow/core/framework/local_rendezvous.cc:404] Local rendezvous is aborting with status: OUT_OF_RANGE: End of sequence\n"
     ]
    },
    {
     "name": "stdout",
     "output_type": "stream",
     "text": [
      "\u001b[1m1/1\u001b[0m \u001b[32m━━━━━━━━━━━━━━━━━━━━\u001b[0m\u001b[37m\u001b[0m \u001b[1m1s\u001b[0m 1s/stepep - accuracy: 0.9803 - loss: 0.094\n",
      "\u001b[1m1/1\u001b[0m \u001b[32m━━━━━━━━━━━━━━━━━━━━\u001b[0m\u001b[37m\u001b[0m \u001b[1m1s\u001b[0m 1s/step\n",
      "\u001b[1m1/1\u001b[0m \u001b[32m━━━━━━━━━━━━━━━━━━━━\u001b[0m\u001b[37m\u001b[0m \u001b[1m1s\u001b[0m 1s/step\n",
      "\u001b[1m1/1\u001b[0m \u001b[32m━━━━━━━━━━━━━━━━━━━━\u001b[0m\u001b[37m\u001b[0m \u001b[1m1s\u001b[0m 1s/step\n",
      "\u001b[1m1/1\u001b[0m \u001b[32m━━━━━━━━━━━━━━━━━━━━\u001b[0m\u001b[37m\u001b[0m \u001b[1m1s\u001b[0m 1s/step\n",
      "\u001b[1m1/1\u001b[0m \u001b[32m━━━━━━━━━━━━━━━━━━━━\u001b[0m\u001b[37m\u001b[0m \u001b[1m1s\u001b[0m 759ms/step\n",
      "Matriz de confusão: \n",
      "[[47  4 10]\n",
      " [ 0 51 10]\n",
      " [ 3  7 52]]\n",
      "Acurácia da epoch:  0.8152173913043478\n",
      "\u001b[1m18/18\u001b[0m \u001b[32m━━━━━━━━━━━━━━━━━━━━\u001b[0m\u001b[37m\u001b[0m \u001b[1m114s\u001b[0m 6s/step - accuracy: 0.9802 - loss: 0.0966 - val_accuracy: 0.8152 - val_loss: 0.4504\n",
      "Epoch 16/20\n"
     ]
    },
    {
     "name": "stderr",
     "output_type": "stream",
     "text": [
      "2024-04-21 16:26:57.953638: W tensorflow/core/framework/local_rendezvous.cc:404] Local rendezvous is aborting with status: OUT_OF_RANGE: End of sequence\n"
     ]
    },
    {
     "name": "stdout",
     "output_type": "stream",
     "text": [
      "\u001b[1m1/1\u001b[0m \u001b[32m━━━━━━━━━━━━━━━━━━━━\u001b[0m\u001b[37m\u001b[0m \u001b[1m1s\u001b[0m 1s/stepep - accuracy: 0.9932 - loss: 0.070\n",
      "\u001b[1m1/1\u001b[0m \u001b[32m━━━━━━━━━━━━━━━━━━━━\u001b[0m\u001b[37m\u001b[0m \u001b[1m1s\u001b[0m 1s/step\n",
      "\u001b[1m1/1\u001b[0m \u001b[32m━━━━━━━━━━━━━━━━━━━━\u001b[0m\u001b[37m\u001b[0m \u001b[1m1s\u001b[0m 1s/step\n",
      "\u001b[1m1/1\u001b[0m \u001b[32m━━━━━━━━━━━━━━━━━━━━\u001b[0m\u001b[37m\u001b[0m \u001b[1m1s\u001b[0m 1s/step\n",
      "\u001b[1m1/1\u001b[0m \u001b[32m━━━━━━━━━━━━━━━━━━━━\u001b[0m\u001b[37m\u001b[0m \u001b[1m1s\u001b[0m 1s/step\n",
      "\u001b[1m1/1\u001b[0m \u001b[32m━━━━━━━━━━━━━━━━━━━━\u001b[0m\u001b[37m\u001b[0m \u001b[1m1s\u001b[0m 776ms/step\n",
      "Matriz de confusão: \n",
      "[[45  4 12]\n",
      " [ 0 57  4]\n",
      " [ 4 11 47]]\n",
      "Acurácia da epoch:  0.8097826086956522\n",
      "\u001b[1m18/18\u001b[0m \u001b[32m━━━━━━━━━━━━━━━━━━━━\u001b[0m\u001b[37m\u001b[0m \u001b[1m113s\u001b[0m 6s/step - accuracy: 0.9930 - loss: 0.0707 - val_accuracy: 0.8098 - val_loss: 0.4813\n",
      "Epoch 17/20\n"
     ]
    },
    {
     "name": "stderr",
     "output_type": "stream",
     "text": [
      "2024-04-21 16:28:50.630469: W tensorflow/core/framework/local_rendezvous.cc:404] Local rendezvous is aborting with status: OUT_OF_RANGE: End of sequence\n"
     ]
    },
    {
     "name": "stdout",
     "output_type": "stream",
     "text": [
      "\u001b[1m1/1\u001b[0m \u001b[32m━━━━━━━━━━━━━━━━━━━━\u001b[0m\u001b[37m\u001b[0m \u001b[1m1s\u001b[0m 1s/stepep - accuracy: 0.9959 - loss: 0.058\n",
      "\u001b[1m1/1\u001b[0m \u001b[32m━━━━━━━━━━━━━━━━━━━━\u001b[0m\u001b[37m\u001b[0m \u001b[1m1s\u001b[0m 1s/step\n",
      "\u001b[1m1/1\u001b[0m \u001b[32m━━━━━━━━━━━━━━━━━━━━\u001b[0m\u001b[37m\u001b[0m \u001b[1m1s\u001b[0m 1s/step\n",
      "\u001b[1m1/1\u001b[0m \u001b[32m━━━━━━━━━━━━━━━━━━━━\u001b[0m\u001b[37m\u001b[0m \u001b[1m1s\u001b[0m 1s/step\n",
      "\u001b[1m1/1\u001b[0m \u001b[32m━━━━━━━━━━━━━━━━━━━━\u001b[0m\u001b[37m\u001b[0m \u001b[1m1s\u001b[0m 1s/step\n",
      "\u001b[1m1/1\u001b[0m \u001b[32m━━━━━━━━━━━━━━━━━━━━\u001b[0m\u001b[37m\u001b[0m \u001b[1m1s\u001b[0m 790ms/step\n",
      "Matriz de confusão: \n",
      "[[44  5 12]\n",
      " [ 0 54  7]\n",
      " [ 4  8 50]]\n",
      "Acurácia da epoch:  0.8043478260869565\n",
      "\u001b[1m18/18\u001b[0m \u001b[32m━━━━━━━━━━━━━━━━━━━━\u001b[0m\u001b[37m\u001b[0m \u001b[1m113s\u001b[0m 6s/step - accuracy: 0.9956 - loss: 0.0589 - val_accuracy: 0.8043 - val_loss: 0.4522\n",
      "Epoch 18/20\n"
     ]
    },
    {
     "name": "stderr",
     "output_type": "stream",
     "text": [
      "2024-04-21 16:30:43.688898: W tensorflow/core/framework/local_rendezvous.cc:404] Local rendezvous is aborting with status: OUT_OF_RANGE: End of sequence\n"
     ]
    },
    {
     "name": "stdout",
     "output_type": "stream",
     "text": [
      "\u001b[1m1/1\u001b[0m \u001b[32m━━━━━━━━━━━━━━━━━━━━\u001b[0m\u001b[37m\u001b[0m \u001b[1m1s\u001b[0m 1s/stepep - accuracy: 0.9895 - loss: 0.056\n",
      "\u001b[1m1/1\u001b[0m \u001b[32m━━━━━━━━━━━━━━━━━━━━\u001b[0m\u001b[37m\u001b[0m \u001b[1m1s\u001b[0m 1s/step\n",
      "\u001b[1m1/1\u001b[0m \u001b[32m━━━━━━━━━━━━━━━━━━━━\u001b[0m\u001b[37m\u001b[0m \u001b[1m1s\u001b[0m 1s/step\n",
      "\u001b[1m1/1\u001b[0m \u001b[32m━━━━━━━━━━━━━━━━━━━━\u001b[0m\u001b[37m\u001b[0m \u001b[1m1s\u001b[0m 1s/step\n",
      "\u001b[1m1/1\u001b[0m \u001b[32m━━━━━━━━━━━━━━━━━━━━\u001b[0m\u001b[37m\u001b[0m \u001b[1m1s\u001b[0m 1s/step\n",
      "\u001b[1m1/1\u001b[0m \u001b[32m━━━━━━━━━━━━━━━━━━━━\u001b[0m\u001b[37m\u001b[0m \u001b[1m1s\u001b[0m 800ms/step\n",
      "Matriz de confusão: \n",
      "[[36  3 22]\n",
      " [ 0 43 18]\n",
      " [ 1  3 58]]\n",
      "Acurácia da epoch:  0.7445652173913043\n",
      "\u001b[1m18/18\u001b[0m \u001b[32m━━━━━━━━━━━━━━━━━━━━\u001b[0m\u001b[37m\u001b[0m \u001b[1m115s\u001b[0m 6s/step - accuracy: 0.9897 - loss: 0.0562 - val_accuracy: 0.7446 - val_loss: 0.6499\n",
      "Epoch 19/20\n"
     ]
    },
    {
     "name": "stderr",
     "output_type": "stream",
     "text": [
      "2024-04-21 16:32:38.253754: W tensorflow/core/framework/local_rendezvous.cc:404] Local rendezvous is aborting with status: OUT_OF_RANGE: End of sequence\n"
     ]
    },
    {
     "name": "stdout",
     "output_type": "stream",
     "text": [
      "\u001b[1m1/1\u001b[0m \u001b[32m━━━━━━━━━━━━━━━━━━━━\u001b[0m\u001b[37m\u001b[0m \u001b[1m1s\u001b[0m 1s/stepep - accuracy: 0.9956 - loss: 0.052\n",
      "\u001b[1m1/1\u001b[0m \u001b[32m━━━━━━━━━━━━━━━━━━━━\u001b[0m\u001b[37m\u001b[0m \u001b[1m1s\u001b[0m 1s/step\n",
      "\u001b[1m1/1\u001b[0m \u001b[32m━━━━━━━━━━━━━━━━━━━━\u001b[0m\u001b[37m\u001b[0m \u001b[1m1s\u001b[0m 1s/step\n",
      "\u001b[1m1/1\u001b[0m \u001b[32m━━━━━━━━━━━━━━━━━━━━\u001b[0m\u001b[37m\u001b[0m \u001b[1m1s\u001b[0m 1s/step\n",
      "\u001b[1m1/1\u001b[0m \u001b[32m━━━━━━━━━━━━━━━━━━━━\u001b[0m\u001b[37m\u001b[0m \u001b[1m1s\u001b[0m 1s/step\n",
      "\u001b[1m1/1\u001b[0m \u001b[32m━━━━━━━━━━━━━━━━━━━━\u001b[0m\u001b[37m\u001b[0m \u001b[1m1s\u001b[0m 775ms/step\n",
      "Matriz de confusão: \n",
      "[[39  4 18]\n",
      " [ 0 55  6]\n",
      " [ 1  7 54]]\n",
      "Acurácia da epoch:  0.8043478260869565\n",
      "\u001b[1m18/18\u001b[0m \u001b[32m━━━━━━━━━━━━━━━━━━━━\u001b[0m\u001b[37m\u001b[0m \u001b[1m114s\u001b[0m 6s/step - accuracy: 0.9956 - loss: 0.0524 - val_accuracy: 0.8043 - val_loss: 0.4632\n",
      "Epoch 20/20\n"
     ]
    },
    {
     "name": "stderr",
     "output_type": "stream",
     "text": [
      "2024-04-21 16:34:32.141526: W tensorflow/core/framework/local_rendezvous.cc:404] Local rendezvous is aborting with status: OUT_OF_RANGE: End of sequence\n"
     ]
    },
    {
     "name": "stdout",
     "output_type": "stream",
     "text": [
      "\u001b[1m1/1\u001b[0m \u001b[32m━━━━━━━━━━━━━━━━━━━━\u001b[0m\u001b[37m\u001b[0m \u001b[1m1s\u001b[0m 1s/stepep - accuracy: 0.9921 - loss: 0.052\n",
      "\u001b[1m1/1\u001b[0m \u001b[32m━━━━━━━━━━━━━━━━━━━━\u001b[0m\u001b[37m\u001b[0m \u001b[1m1s\u001b[0m 1s/step\n",
      "\u001b[1m1/1\u001b[0m \u001b[32m━━━━━━━━━━━━━━━━━━━━\u001b[0m\u001b[37m\u001b[0m \u001b[1m1s\u001b[0m 1s/step\n",
      "\u001b[1m1/1\u001b[0m \u001b[32m━━━━━━━━━━━━━━━━━━━━\u001b[0m\u001b[37m\u001b[0m \u001b[1m1s\u001b[0m 1s/step\n",
      "\u001b[1m1/1\u001b[0m \u001b[32m━━━━━━━━━━━━━━━━━━━━\u001b[0m\u001b[37m\u001b[0m \u001b[1m1s\u001b[0m 1s/step\n",
      "\u001b[1m1/1\u001b[0m \u001b[32m━━━━━━━━━━━━━━━━━━━━\u001b[0m\u001b[37m\u001b[0m \u001b[1m1s\u001b[0m 803ms/step\n",
      "Matriz de confusão: \n",
      "[[46  5 10]\n",
      " [ 0 51 10]\n",
      " [ 2  4 56]]\n",
      "Acurácia da epoch:  0.8315217391304348\n",
      "\u001b[1m18/18\u001b[0m \u001b[32m━━━━━━━━━━━━━━━━━━━━\u001b[0m\u001b[37m\u001b[0m \u001b[1m115s\u001b[0m 6s/step - accuracy: 0.9919 - loss: 0.0535 - val_accuracy: 0.8315 - val_loss: 0.4583\n"
     ]
    },
    {
     "name": "stderr",
     "output_type": "stream",
     "text": [
      "2024-04-21 16:36:27.328592: W tensorflow/core/framework/local_rendezvous.cc:404] Local rendezvous is aborting with status: OUT_OF_RANGE: End of sequence\n"
     ]
    },
    {
     "name": "stdout",
     "output_type": "stream",
     "text": [
      "\u001b[1m6/6\u001b[0m \u001b[32m━━━━━━━━━━━━━━━━━━━━\u001b[0m\u001b[37m\u001b[0m \u001b[1m6s\u001b[0m 1s/step - accuracy: 0.8418 - loss: 0.4415\n",
      "Teste acurácia com dataset de testes:  0.8602150678634644\n"
     ]
    },
    {
     "data": {
      "text/plain": [
       "'\\n\\nEpochs: Cada linha corresponde a uma época de treinamento. Uma época é uma iteração completa sobre todo o conjunto de dados de treinamento.\\n\\nBatches por Época: Aqui, o número 23/23 indica que há 23 batches (ou lotes) de dados sendo processados em cada época. Isso pode variar dependendo do tamanho do conjunto de treinamento e do tamanho do lote (batch_size). Por exemplo, se você tem 700 amostras de treinamento e está usando um tamanho de lote de 32, então cada época terá 22 batches (700/32 = 21.875).\\n\\nTempo por Época: O tempo indicado representa o tempo gasto para completar uma época. Isso pode variar dependendo da complexidade do modelo, tamanho do conjunto de dados e recursos do hardware.\\n\\nAccuracy (Acurácia) e Loss (Perda): A acurácia e a perda durante o treinamento e validação são mostradas para cada época. A acurácia indica a proporção de previsões corretas em relação ao total de exemplos, enquanto a perda (loss) é uma medida do quão bem o modelo está performando durante o treinamento, sendo minimizada ao longo das épocas.\\n\\nVal_accuracy e Val_loss: Estes são os valores de acurácia e perda calculados no conjunto de dados de validação, que é usado para avaliar o desempenho do modelo em dados que não foram vistos durante o treinamento. É importante monitorar essas métricas para evitar overfitting e garantir que o modelo esteja generalizando bem para novos dados.\\n\\nTest accuracy e Test loss: Após o treinamento, o modelo é avaliado no conjunto de dados de teste (geralmente separado do conjunto de validação). Estas métricas fornecem uma avaliação final do desempenho do modelo em dados completamente novos e não vistos durante o treinamento.\\n\\nAcurácia: No final do treinamento, a acurácia nos dados de validação foi de aproximadamente 84.41%. Isso significa que o modelo classificou corretamente cerca de 84.41% das amostras nos dados de validação.\\n\\nPerda: A perda nos dados de validação foi de aproximadamente 0.4956. A perda é uma medida de quão boa ou ruim é a previsão do modelo para uma única amostra; valores mais baixos são melhores.\\n\\nTendência ao longo das épocas: A acurácia e a perda parecem estar se estabilizando ao longo das épocas, o que sugere que o modelo está convergindo para uma solução.\\n'"
      ]
     },
     "execution_count": 11,
     "metadata": {},
     "output_type": "execute_result"
    }
   ],
   "source": [
    "# 6. Treinamento do modelo e algumas validações com accuray e confusion matrix\n",
    "\n",
    "# Declaração da função de callback que será chamada no fim do processamento de cada época durante o treinamento\n",
    "# Calcula a matriz de confusão e teste de acurácia\n",
    "from sklearn.metrics import confusion_matrix, accuracy_score\n",
    "import numpy as np \n",
    "\n",
    "class MetricsCallback(tf.keras.callbacks.Callback):\n",
    "    def __init__(self, dados_validacao):\n",
    "        self.dados_validacao = dados_validacao\n",
    "\n",
    "    # Vai ser chamado no final de cada época durante o treinamento\n",
    "    def on_epoch_end(self, epoch, logs=None):\n",
    "        y_true = []\n",
    "        y_pred = []\n",
    "        \n",
    "        # Iterando sobre os dados para obter os rótulos verdadeiros e preditos\n",
    "        for x_batch, y_batch in self.dados_validacao:\n",
    "            y_true.extend(np.argmax(y_batch, axis=1))\n",
    "\n",
    "            y_pred_batch = np.argmax(self.model.predict(x_batch), axis=1)\n",
    "            y_pred.extend(y_pred_batch)\n",
    "\n",
    "        # Calculando a matriz de confusão\n",
    "        cm = confusion_matrix(y_true=y_true, y_pred=y_pred)\n",
    "\n",
    "        # Calculando a acurácia\n",
    "        accuracy = accuracy_score(y_true=y_true, y_pred=y_pred)\n",
    "\n",
    "        # Impressão dos resultados\n",
    "        print(\"Matriz de confusão: \")\n",
    "        print(cm)\n",
    "        print('Acurácia da epoch: ', accuracy)\n",
    "\n",
    "\n",
    "# Instância das métricas (acurácia e matriz de confusão)\n",
    "metrics_callback = MetricsCallback(data_set_validacao)\n",
    "\n",
    "\n",
    "# Treinamento do modelo com função de otimização Adam\n",
    "# É passado o dataset de treinamento, a quantidade de épocas (quantas vezes vai percorrer o dataset) e o dataset de validação\n",
    "history = model_adam.fit(\n",
    "    data_set_treinamento,\n",
    "    epochs=epoch,\n",
    "    validation_data=data_set_validacao,\n",
    "    callbacks=[metrics_callback]\n",
    ")\n",
    "\n",
    "# Teste de acurácia com o dataset de testes\n",
    "teste_perca, teste_acuracia = model_adam.evaluate(data_set_teste)\n",
    "print('Teste acurácia com dataset de testes: ', teste_acuracia)\n",
    "\n",
    "'''\n",
    "\n",
    "Epochs: Cada linha corresponde a uma época de treinamento. Uma época é uma iteração completa sobre todo o conjunto de dados de treinamento.\n",
    "\n",
    "Batches por Época: Aqui, o número 23/23 indica que há 23 batches (ou lotes) de dados sendo processados em cada época. Isso pode variar dependendo do tamanho do conjunto de treinamento e do tamanho do lote (batch_size). Por exemplo, se você tem 700 amostras de treinamento e está usando um tamanho de lote de 32, então cada época terá 22 batches (700/32 = 21.875).\n",
    "\n",
    "Tempo por Época: O tempo indicado representa o tempo gasto para completar uma época. Isso pode variar dependendo da complexidade do modelo, tamanho do conjunto de dados e recursos do hardware.\n",
    "\n",
    "Accuracy (Acurácia) e Loss (Perda): A acurácia e a perda durante o treinamento e validação são mostradas para cada época. A acurácia indica a proporção de previsões corretas em relação ao total de exemplos, enquanto a perda (loss) é uma medida do quão bem o modelo está performando durante o treinamento, sendo minimizada ao longo das épocas.\n",
    "\n",
    "Val_accuracy e Val_loss: Estes são os valores de acurácia e perda calculados no conjunto de dados de validação, que é usado para avaliar o desempenho do modelo em dados que não foram vistos durante o treinamento. É importante monitorar essas métricas para evitar overfitting e garantir que o modelo esteja generalizando bem para novos dados.\n",
    "\n",
    "Test accuracy e Test loss: Após o treinamento, o modelo é avaliado no conjunto de dados de teste (geralmente separado do conjunto de validação). Estas métricas fornecem uma avaliação final do desempenho do modelo em dados completamente novos e não vistos durante o treinamento.\n",
    "\n",
    "Acurácia: No final do treinamento, a acurácia nos dados de validação foi de aproximadamente 84.41%. Isso significa que o modelo classificou corretamente cerca de 84.41% das amostras nos dados de validação.\n",
    "\n",
    "Perda: A perda nos dados de validação foi de aproximadamente 0.4956. A perda é uma medida de quão boa ou ruim é a previsão do modelo para uma única amostra; valores mais baixos são melhores.\n",
    "\n",
    "Tendência ao longo das épocas: A acurácia e a perda parecem estar se estabilizando ao longo das épocas, o que sugere que o modelo está convergindo para uma solução.\n",
    "'''\n"
   ]
  },
  {
   "cell_type": "code",
   "execution_count": 12,
   "id": "d1cd94f7",
   "metadata": {},
   "outputs": [],
   "source": [
    "model_adam.save('modelo1.keras')"
   ]
  }
 ],
 "metadata": {
  "kernelspec": {
   "display_name": "Python 3 (ipykernel)",
   "language": "python",
   "name": "python3"
  },
  "language_info": {
   "codemirror_mode": {
    "name": "ipython",
    "version": 3
   },
   "file_extension": ".py",
   "mimetype": "text/x-python",
   "name": "python",
   "nbconvert_exporter": "python",
   "pygments_lexer": "ipython3",
   "version": "3.10.12"
  }
 },
 "nbformat": 4,
 "nbformat_minor": 5
}
